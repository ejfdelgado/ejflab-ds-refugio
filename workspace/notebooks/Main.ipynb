{
 "cells": [
  {
   "cell_type": "code",
   "execution_count": null,
   "id": "7a4295e2-2b2f-40ac-80cb-7c29e797d419",
   "metadata": {},
   "outputs": [],
   "source": [
    "from importlib import reload\n",
    "from library import utility\n",
    "reload(utility)"
   ]
  },
  {
   "cell_type": "code",
   "execution_count": null,
   "id": "28d97596-ea93-4af0-a1aa-24ba0027c0ac",
   "metadata": {},
   "outputs": [],
   "source": [
    "reload(utility)\n",
    "utility.load_csv_file()"
   ]
  },
  {
   "cell_type": "code",
   "execution_count": null,
   "id": "376e6610-4c6b-4492-8b91-89ecc1dac644",
   "metadata": {},
   "outputs": [],
   "source": [
    "reload(utility)\n",
    "utility.rename_columns()"
   ]
  },
  {
   "cell_type": "code",
   "execution_count": 38,
   "id": "6f5bda62-e7e7-4733-af33-1cc4a0d63094",
   "metadata": {},
   "outputs": [
    {
     "name": "stdout",
     "output_type": "stream",
     "text": [
      "If the following table shows rows, consider fix nights from dates...\n",
      "+----------+--------+------+\n",
      "|date_start|date_end|nights|\n",
      "+----------+--------+------+\n",
      "+----------+--------+------+\n",
      "\n",
      "+------+-------+----------+----------+\n",
      "|nights|nights2|date_start|  date_end|\n",
      "+------+-------+----------+----------+\n",
      "|     2|    275|2019-01-25|2019-10-27|\n",
      "|     1|  -3286|2019-11-23|2010-11-24|\n",
      "|     2|   -364|2020-12-19|2019-12-21|\n",
      "|     2|      3|2019-12-28|2019-12-31|\n",
      "|     2|    -29|2019-12-31|2019-12-02|\n",
      "|     2|      1|2020-01-02|2020-01-03|\n",
      "|     2|      1|2020-02-02|2020-02-03|\n",
      "|     2|      1|2020-02-22|2020-02-23|\n",
      "|     2|      1|2020-10-24|2020-10-25|\n",
      "|     1|      2|2020-11-14|2020-11-16|\n",
      "|     3|     33|2020-11-10|2020-12-13|\n",
      "|     1|  -3286|2029-12-29|2020-12-30|\n",
      "|     3|    -28|2020-12-30|2020-12-02|\n",
      "|     3|  -3285|2021-01-06|2012-01-09|\n",
      "|     1|    -27|2021-03-03|2021-02-04|\n",
      "|     8|      7|2021-03-17|2021-03-24|\n",
      "|     4|      3|2021-07-01|2021-07-04|\n",
      "|     1|     31|2021-06-03|2021-07-04|\n",
      "|     1|      2|2021-07-23|2021-07-25|\n",
      "|     2|      1|2021-12-11|2021-12-12|\n",
      "+------+-------+----------+----------+\n",
      "only showing top 20 rows\n",
      "\n"
     ]
    }
   ],
   "source": [
    "reload(utility)\n",
    "utility.parse_dates()"
   ]
  },
  {
   "cell_type": "markdown",
   "id": "3cddc078-b6f8-4ea7-998b-1678257dcf09",
   "metadata": {},
   "source": [
    "Por donde nos encontraron?"
   ]
  },
  {
   "cell_type": "code",
   "execution_count": null,
   "id": "6b92d79e-60d6-41df-a28e-96d8dc83fe97",
   "metadata": {},
   "outputs": [],
   "source": [
    "reload(utility)\n",
    "utility.channel_analysis()"
   ]
  },
  {
   "cell_type": "markdown",
   "id": "b5ec6f88-8ed2-4260-9cdd-cba1647f8b33",
   "metadata": {},
   "source": [
    "que porcentaje son clientes frecuentes?"
   ]
  },
  {
   "cell_type": "markdown",
   "id": "d863c789-5bec-497a-8e24-705acc0559e8",
   "metadata": {},
   "source": [
    "que porcentaje de personas viaja sola, pareja y grupos familiares?"
   ]
  }
 ],
 "metadata": {
  "kernelspec": {
   "display_name": "Python 3 (ipykernel)",
   "language": "python",
   "name": "python3"
  },
  "language_info": {
   "codemirror_mode": {
    "name": "ipython",
    "version": 3
   },
   "file_extension": ".py",
   "mimetype": "text/x-python",
   "name": "python",
   "nbconvert_exporter": "python",
   "pygments_lexer": "ipython3",
   "version": "3.11.6"
  }
 },
 "nbformat": 4,
 "nbformat_minor": 5
}

{
 "cells": [
  {
   "cell_type": "code",
   "execution_count": null,
   "id": "7a4295e2-2b2f-40ac-80cb-7c29e797d419",
   "metadata": {},
   "outputs": [],
   "source": [
    "from importlib import reload\n",
    "from library import utility\n",
    "reload(utility)"
   ]
  },
  {
   "cell_type": "code",
   "execution_count": null,
   "id": "28d97596-ea93-4af0-a1aa-24ba0027c0ac",
   "metadata": {},
   "outputs": [],
   "source": [
    "reload(utility)\n",
    "utility.load_csv_file()"
   ]
  },
  {
   "cell_type": "code",
   "execution_count": null,
   "id": "376e6610-4c6b-4492-8b91-89ecc1dac644",
   "metadata": {},
   "outputs": [],
   "source": [
    "reload(utility)\n",
    "utility.normalize()"
   ]
  }
 ],
 "metadata": {
  "kernelspec": {
   "display_name": "Python 3 (ipykernel)",
   "language": "python",
   "name": "python3"
  },
  "language_info": {
   "codemirror_mode": {
    "name": "ipython",
    "version": 3
   },
   "file_extension": ".py",
   "mimetype": "text/x-python",
   "name": "python",
   "nbconvert_exporter": "python",
   "pygments_lexer": "ipython3",
   "version": "3.11.6"
  }
 },
 "nbformat": 4,
 "nbformat_minor": 5
}

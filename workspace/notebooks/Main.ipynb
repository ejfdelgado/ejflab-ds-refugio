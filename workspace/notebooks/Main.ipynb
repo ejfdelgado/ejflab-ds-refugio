{
 "cells": [
  {
   "cell_type": "code",
   "execution_count": 1,
   "id": "7a4295e2-2b2f-40ac-80cb-7c29e797d419",
   "metadata": {},
   "outputs": [
    {
     "data": {
      "text/plain": [
       "<module 'library.utility' from '/home/jovyan/library/utility.py'>"
      ]
     },
     "execution_count": 1,
     "metadata": {},
     "output_type": "execute_result"
    }
   ],
   "source": [
    "from importlib import reload\n",
    "from library import utility\n",
    "reload(utility)"
   ]
  },
  {
   "cell_type": "code",
   "execution_count": 2,
   "id": "28d97596-ea93-4af0-a1aa-24ba0027c0ac",
   "metadata": {},
   "outputs": [
    {
     "name": "stdout",
     "output_type": "stream",
     "text": [
      "root\n",
      " |-- NOMBRE : string (nullable = true)\n",
      " |-- Cómo se enteró de El Refugio?: string (nullable = true)\n",
      " |-- RESERVA POR BOOKING.COM comisión 14% (SI/NO): string (nullable = true)\n",
      " |-- No. DE PERSONAS & Manillas: string (nullable = true)\n",
      " |-- FECHA DE LLEGADA o CONSUMO: string (nullable = true)\n",
      " |-- FECHA DE SALIDA: string (nullable = true)\n",
      " |-- No. DE NOCHES: string (nullable = true)\n",
      " |-- TOTAL A PAGAR EN HOSPEDAJE / PASADIA: string (nullable = true)\n",
      " |--  PAGÓ RESERVA 50% O ABONO (si/no): string (nullable = true)\n",
      " |-- UBICACIÓN: string (nullable = true)\n",
      " |-- CONSUMO : string (nullable = true)\n",
      " |--  TOTAL CONSUMO: string (nullable = true)\n",
      " |--  PAGO EN ENFECTIVO: string (nullable = true)\n",
      " |--  PAGO EN DIGITAL: string (nullable = true)\n",
      " |-- OBSERVACIONES / PROPINAS: string (nullable = true)\n",
      " |-- EGRESOS: string (nullable = true)\n",
      " |-- _c16: string (nullable = true)\n",
      "\n",
      "+--------------------+-----------------------------+--------------------------------------------+--------------------------+--------------------------+--------------------+-------------+------------------------------------+---------------------------------+--------------------+--------------------+--------------+------------------+----------------+------------------------+--------------------+----+\n",
      "|             NOMBRE |Cómo se enteró de El Refugio?|RESERVA POR BOOKING.COM comisión 14% (SI/NO)|No. DE PERSONAS & Manillas|FECHA DE LLEGADA o CONSUMO|     FECHA DE SALIDA|No. DE NOCHES|TOTAL A PAGAR EN HOSPEDAJE / PASADIA| PAGÓ RESERVA 50% O ABONO (si/no)|           UBICACIÓN|            CONSUMO | TOTAL CONSUMO| PAGO EN ENFECTIVO| PAGO EN DIGITAL|OBSERVACIONES / PROPINAS|             EGRESOS|_c16|\n",
      "+--------------------+-----------------------------+--------------------------------------------+--------------------------+--------------------------+--------------------+-------------+------------------------------------+---------------------------------+--------------------+--------------------+--------------+------------------+----------------+------------------------+--------------------+----+\n",
      "|         JHON BEDOYA|                  BOOKING.COM|                                          NO|                         5|      martes, octubre 0...|viernes, 11 de oc...|            3|                         $  450.000 |                               NO|HABITACION DOBLE ...|9 Oct: 5 Desayuno...|          NULL|     $ 498.000,00 |            NULL|    se organizó y cob...|MERCADO DESAYUNOS...|NULL|\n",
      "|    MESA 1 / TERRAZA|                      WALK IN|                                          NA|                         2|      miércoles, octubr...|                  NA|           NA|                                  NA|                               NA|             TERRAZA|      2 CORONAS (7K)|          NULL|      $ 14.000,00 |            NULL|                    NULL|                    |NULL|\n",
      "|      ANDRES PRESIGA|                  BOOKING.COM|                                          NO|                         2|      miércoles, octubr...|jueves, 10 de oct...|            1|                          $  50.000 |                               NA|          DORMITORIO|2 CAFÉ CON LECHE ...|          NULL|      $ 55.000,00 |            NULL|                    NULL|SE PAGÓ EL INTERN...|NULL|\n",
      "|      MANUEL ESTEVEZ|                     FACEBOOK|                                          NO|                         2|      sábado, octubre 1...|domingo, 13 de oc...|            1|                          $  80.000 |                               NA|HABITACION DOBLE ...|13 de Octubre. 2 ...|          NULL|      $ 96.000,00 |            NULL|                    NULL|                NULL|NULL|\n",
      "|ADRIANA MARCELA R...|                  BOOKING.COM|                        SI.              ...|                         2|      domingo, octubre ...|lunes, 14 de octu...|            1|                          $  80.000 |                               NO|HABITACION DOBLE ...|14 de OCT: 2 Desa...|          NULL|      $ 84.800,00 |            NULL|    El total sería de...|COMISIÓN PARA BOO...|NULL|\n",
      "|    EMERSON CASTILLO|                      WALK IN|                                          NO|                         2|      domingo, octubre ...|lunes, 14 de octu...|            1|                          $  60.000 |                               NO|HABITACION DOBLE ...|14 de OCT: 1 Desa...|          NULL|      $ 68.000,00 |            NULL|                    NULL|                NULL|NULL|\n",
      "|     ANDRES / MESA 2|                        AMIGO|                                          NA|                         1|      martes, octubre 1...|                  NA|           NA|                                  NA|                               NA|              COCINA| 1 Desayuno Jr. (6k)|          NULL|       $ 6.000,00 |            NULL|                    NULL|                NULL|NULL|\n",
      "|    GREGORY VERHEYEN|                     FACEBOOK|                                          NO|                         1|      martes, octubre 1...|lunes, 21 de octu...|            6|                         $  150.000 |                     $ 25.000,00 |          DORMITORIO|15 de Oct: 3 Club...|          NULL|     $ 248.000,00 |            NULL|    CERRADA. DEJO 7K ...|                NULL|NULL|\n",
      "|         ROBIN PETIT|                     FACEBOOK|                                          NO|                         1|      martes, octubre 1...|miércoles, 23 de ...|            8|                         $  200.000 |                     $ 25.000,00 |          DORMITORIO|15 DE OCT: 1 TINT...|          NULL|     $ 256.000,00 |            NULL|    CERRADA. DEJO 4K ...|18.10.19/ Mercado...|NULL|\n",
      "|             ANDRES |                        AMIGO|                                          NO|                         1|      sábado, octubre 1...|                  NA|           NA|                                  NA|                               NA|              COCINA| 1 Desayuno Jr. (6k)|          NULL|       $ 6.000,00 |            NULL|                    NULL|                NULL|NULL|\n",
      "|ANDRES VELAZQUEZ ...|                         NULL|                                          NO|                         3|      sábado, noviembre...|lunes, 11 de novi...|            2|                         $  190.000 |                     $ 95.000,00 |HABITACION DOBLE ...|                NULL|          NULL|      $ 95.000,00 |            NULL|    SE DEBE CAMBIAR L...|                NULL|NULL|\n",
      "|      ANDRES PRESIGA|         SE HABIA HOSPEDAD...|                                          NO|                         1|      domingo, octubre ...|                  NA|           NA|                                  NA|                               NA|         SALA HAMACA|4 Club Colombia (4K)|          NULL|      $ 16.000,00 |            NULL|                    NULL|                NULL|NULL|\n",
      "|                NULL|                         NULL|                                        NULL|                      NULL|                      NULL|                NULL|         NULL|                                NULL|                             NULL|                NULL|               TOTAL|          NULL|   $ 1.442.800,00 |            NULL|                    NULL|                NULL|NULL|\n",
      "|                NULL|                         NULL|                                        NULL|                      NULL|                      NULL|                NULL|         NULL|                                NULL|                             NULL|                NULL|                NULL|          NULL|              NULL|            NULL|                    NULL|                NULL|NULL|\n",
      "|    GREGORY VERHEYEN|         SE HABIA HOSPEDAD...|                                          NO|                         1|      jueves, octubre 2...|lunes, 28 de octu...|            4|                         $  100.000 |                               NO|          DORMITORIO|26 de Oct: 2 huev...|          NULL|              NULL|            NULL|    CUENTA ABIERTA.. ...|                NULL|NULL|\n",
      "|   JUAN PABLO MORENO|                      Booking|                                          NO|                         2|      viernes, enero 25...|domingo, 27 de oc...|            2|                         $  160.000 |                      SI, $80.000|HABITACION DOBLE ...|25 de Oct:  2 Com...|          NULL|     $ 224.000,00 |            NULL|                    NULL|25/10/2019: Donde...|NULL|\n",
      "|              MESA 1|                      Walk in|                                          NO|                         1|      sábado, octubre 2...|                  NA|           NA|                                  NA|                               NA|                  NA|4 Club Colombia (...|          NULL|      $ 16.000,00 |            NULL|                    NULL|                NULL|NULL|\n",
      "|                NULL|                         NULL|                                        NULL|                      NULL|                      NULL|                NULL|         NULL|                                NULL|                             NULL|                NULL|               TOTAL|          NULL|     $ 240.000,00 |            NULL|                    NULL|                NULL|NULL|\n",
      "|                NULL|                         NULL|                                        NULL|                      NULL|                      NULL|                NULL|         NULL|                                NULL|                             NULL|                NULL|                NULL|          NULL|              NULL|            NULL|                    NULL|                NULL|NULL|\n",
      "|            FRED NOX|                     facebook|                                          no|                         2|      viernes, noviembr...|domingo, 3 de nov...|            2|                         $  160.000 |                       SI, 80.000|HABITACION DOBLE ...|1 de Nov: 7 Club ...|          NULL|     $ 196.000,00 |            NULL|                    NULL|1/11/2019: QUÍMIC...|NULL|\n",
      "+--------------------+-----------------------------+--------------------------------------------+--------------------------+--------------------------+--------------------+-------------+------------------------------------+---------------------------------+--------------------+--------------------+--------------+------------------+----------------+------------------------+--------------------+----+\n",
      "only showing top 20 rows\n",
      "\n"
     ]
    }
   ],
   "source": [
    "reload(utility)\n",
    "utility.load_csv_file()"
   ]
  }
 ],
 "metadata": {
  "kernelspec": {
   "display_name": "Python 3 (ipykernel)",
   "language": "python",
   "name": "python3"
  },
  "language_info": {
   "codemirror_mode": {
    "name": "ipython",
    "version": 3
   },
   "file_extension": ".py",
   "mimetype": "text/x-python",
   "name": "python",
   "nbconvert_exporter": "python",
   "pygments_lexer": "ipython3",
   "version": "3.11.6"
  }
 },
 "nbformat": 4,
 "nbformat_minor": 5
}

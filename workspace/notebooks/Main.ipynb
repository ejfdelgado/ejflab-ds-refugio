{
 "cells": [
  {
   "cell_type": "code",
   "execution_count": 2,
   "id": "7a4295e2-2b2f-40ac-80cb-7c29e797d419",
   "metadata": {},
   "outputs": [
    {
     "data": {
      "text/plain": [
       "<module 'library.utility' from '/home/jovyan/library/utility.py'>"
      ]
     },
     "execution_count": 2,
     "metadata": {},
     "output_type": "execute_result"
    }
   ],
   "source": [
    "from importlib import reload\n",
    "from library import utility\n",
    "reload(utility)"
   ]
  },
  {
   "cell_type": "code",
   "execution_count": null,
   "id": "28d97596-ea93-4af0-a1aa-24ba0027c0ac",
   "metadata": {},
   "outputs": [],
   "source": [
    "reload(utility)\n",
    "utility.load_csv_file()"
   ]
  },
  {
   "cell_type": "code",
   "execution_count": null,
   "id": "376e6610-4c6b-4492-8b91-89ecc1dac644",
   "metadata": {},
   "outputs": [],
   "source": [
    "reload(utility)\n",
    "utility.rename_columns()"
   ]
  },
  {
   "cell_type": "code",
   "execution_count": 17,
   "id": "6f5bda62-e7e7-4733-af33-1cc4a0d63094",
   "metadata": {},
   "outputs": [
    {
     "name": "stdout",
     "output_type": "stream",
     "text": [
      "If the following table shows rows, consider fix date_end from nights...\n",
      "+----------+--------+------+\n",
      "|date_start|date_end|nights|\n",
      "+----------+--------+------+\n",
      "+----------+--------+------+\n",
      "\n",
      "+------+-------+----------+----------+\n",
      "|nights|nights2|date_start|  date_end|\n",
      "+------+-------+----------+----------+\n",
      "|     3|      3|2019-10-08|2019-10-11|\n",
      "|     1|      1|2019-10-09|2019-10-10|\n",
      "|     1|      1|2019-10-12|2019-10-13|\n",
      "|     1|      1|2019-10-13|2019-10-14|\n",
      "|     1|      1|2019-10-13|2019-10-14|\n",
      "|     6|      6|2019-10-15|2019-10-21|\n",
      "|     8|      8|2019-10-15|2019-10-23|\n",
      "|     2|      2|2019-11-09|2019-11-11|\n",
      "|     4|      4|2019-10-24|2019-10-28|\n",
      "|     2|      2|2019-01-25|2019-01-27|\n",
      "|     2|      2|2019-11-01|2019-11-03|\n",
      "|     1|      1|2019-11-03|2019-11-04|\n",
      "|     1|      1|2019-11-03|2019-11-04|\n",
      "|     1|      1|2019-11-09|2019-11-10|\n",
      "|     2|      2|2019-11-09|2019-11-11|\n",
      "|     1|      1|2019-11-10|2019-11-11|\n",
      "|     0|      0|2019-11-10|2019-11-10|\n",
      "|     1|      1|2019-11-23|2019-11-24|\n",
      "|     2|      2|2019-12-13|2019-12-15|\n",
      "|     2|      2|2020-12-19|2020-12-21|\n",
      "+------+-------+----------+----------+\n",
      "only showing top 20 rows\n",
      "\n"
     ]
    }
   ],
   "source": [
    "reload(utility)\n",
    "utility.parse_dates()"
   ]
  },
  {
   "cell_type": "markdown",
   "id": "3cddc078-b6f8-4ea7-998b-1678257dcf09",
   "metadata": {},
   "source": [
    "Por donde nos encontraron?"
   ]
  },
  {
   "cell_type": "code",
   "execution_count": null,
   "id": "6b92d79e-60d6-41df-a28e-96d8dc83fe97",
   "metadata": {},
   "outputs": [],
   "source": [
    "reload(utility)\n",
    "utility.channel_analysis()"
   ]
  },
  {
   "cell_type": "markdown",
   "id": "b5ec6f88-8ed2-4260-9cdd-cba1647f8b33",
   "metadata": {},
   "source": [
    "que porcentaje son clientes frecuentes?"
   ]
  },
  {
   "cell_type": "markdown",
   "id": "d863c789-5bec-497a-8e24-705acc0559e8",
   "metadata": {},
   "source": [
    "que porcentaje de personas viaja sola, pareja y grupos familiares?"
   ]
  }
 ],
 "metadata": {
  "kernelspec": {
   "display_name": "Python 3 (ipykernel)",
   "language": "python",
   "name": "python3"
  },
  "language_info": {
   "codemirror_mode": {
    "name": "ipython",
    "version": 3
   },
   "file_extension": ".py",
   "mimetype": "text/x-python",
   "name": "python",
   "nbconvert_exporter": "python",
   "pygments_lexer": "ipython3",
   "version": "3.11.6"
  }
 },
 "nbformat": 4,
 "nbformat_minor": 5
}

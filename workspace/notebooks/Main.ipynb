{
 "cells": [
  {
   "cell_type": "code",
   "execution_count": 22,
   "id": "7a4295e2-2b2f-40ac-80cb-7c29e797d419",
   "metadata": {},
   "outputs": [
    {
     "data": {
      "text/plain": [
       "<module 'library.utility' from '/home/jovyan/library/utility.py'>"
      ]
     },
     "execution_count": 22,
     "metadata": {},
     "output_type": "execute_result"
    }
   ],
   "source": [
    "from importlib import reload\n",
    "from library import utility\n",
    "from library import holidays\n",
    "reload(utility)"
   ]
  },
  {
   "cell_type": "code",
   "execution_count": 31,
   "id": "2600bc28-3139-4e82-9d19-9be7293161a0",
   "metadata": {},
   "outputs": [
    {
     "name": "stdout",
     "output_type": "stream",
     "text": [
      "+----------+\n",
      "|     holyd|\n",
      "+----------+\n",
      "|2022-01-01|\n",
      "|2022-01-10|\n",
      "|2022-03-21|\n",
      "|2022-04-14|\n",
      "|2022-04-15|\n",
      "|2022-05-01|\n",
      "|2022-05-30|\n",
      "|2022-06-20|\n",
      "|2022-06-27|\n",
      "|2022-07-04|\n",
      "|2022-07-20|\n",
      "|2022-08-07|\n",
      "|2022-08-15|\n",
      "|2022-10-17|\n",
      "|2022-11-07|\n",
      "|2022-11-14|\n",
      "|2022-12-08|\n",
      "|2022-12-25|\n",
      "|2023-01-01|\n",
      "|2023-01-09|\n",
      "+----------+\n",
      "only showing top 20 rows\n",
      "\n"
     ]
    }
   ],
   "source": [
    "reload(holidays)\n",
    "holidays.recreate()"
   ]
  },
  {
   "cell_type": "code",
   "execution_count": null,
   "id": "28d97596-ea93-4af0-a1aa-24ba0027c0ac",
   "metadata": {},
   "outputs": [],
   "source": [
    "reload(utility)\n",
    "utility.load_csv_file()"
   ]
  },
  {
   "cell_type": "code",
   "execution_count": null,
   "id": "376e6610-4c6b-4492-8b91-89ecc1dac644",
   "metadata": {},
   "outputs": [],
   "source": [
    "reload(utility)\n",
    "utility.rename_columns()"
   ]
  },
  {
   "cell_type": "code",
   "execution_count": null,
   "id": "6f5bda62-e7e7-4733-af33-1cc4a0d63094",
   "metadata": {},
   "outputs": [],
   "source": [
    "reload(utility)\n",
    "utility.parse_dates()"
   ]
  },
  {
   "cell_type": "markdown",
   "id": "3cddc078-b6f8-4ea7-998b-1678257dcf09",
   "metadata": {},
   "source": [
    "Por donde nos encontraron?"
   ]
  },
  {
   "cell_type": "code",
   "execution_count": 20,
   "id": "6b92d79e-60d6-41df-a28e-96d8dc83fe97",
   "metadata": {},
   "outputs": [
    {
     "name": "stdout",
     "output_type": "stream",
     "text": [
      "+----------+\n",
      "|date_start|\n",
      "+----------+\n",
      "|2019-10-08|\n",
      "|2019-10-09|\n",
      "|2019-10-12|\n",
      "|2019-10-13|\n",
      "|2019-10-13|\n",
      "|2019-10-15|\n",
      "|2019-10-15|\n",
      "|2019-11-09|\n",
      "|2019-10-24|\n",
      "|2019-01-25|\n",
      "|2019-11-01|\n",
      "|2019-11-03|\n",
      "|2019-11-03|\n",
      "|2019-11-09|\n",
      "|2019-11-09|\n",
      "|2019-11-10|\n",
      "|2019-11-10|\n",
      "|2019-11-23|\n",
      "|2019-12-13|\n",
      "|2020-12-19|\n",
      "+----------+\n",
      "only showing top 20 rows\n",
      "\n"
     ]
    }
   ],
   "source": [
    "reload(utility)\n",
    "utility.channel_analysis()"
   ]
  },
  {
   "cell_type": "markdown",
   "id": "b5ec6f88-8ed2-4260-9cdd-cba1647f8b33",
   "metadata": {},
   "source": [
    "que porcentaje son clientes frecuentes?"
   ]
  },
  {
   "cell_type": "markdown",
   "id": "d863c789-5bec-497a-8e24-705acc0559e8",
   "metadata": {},
   "source": [
    "que porcentaje de personas viaja sola, pareja y grupos familiares?"
   ]
  }
 ],
 "metadata": {
  "kernelspec": {
   "display_name": "Python 3 (ipykernel)",
   "language": "python",
   "name": "python3"
  },
  "language_info": {
   "codemirror_mode": {
    "name": "ipython",
    "version": 3
   },
   "file_extension": ".py",
   "mimetype": "text/x-python",
   "name": "python",
   "nbconvert_exporter": "python",
   "pygments_lexer": "ipython3",
   "version": "3.11.6"
  }
 },
 "nbformat": 4,
 "nbformat_minor": 5
}

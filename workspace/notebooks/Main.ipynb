{
 "cells": [
  {
   "cell_type": "code",
   "execution_count": null,
   "id": "7a4295e2-2b2f-40ac-80cb-7c29e797d419",
   "metadata": {},
   "outputs": [],
   "source": [
    "from importlib import reload\n",
    "from library import utility, holidays, base\n",
    "reload(utility)"
   ]
  },
  {
   "cell_type": "code",
   "execution_count": null,
   "id": "2600bc28-3139-4e82-9d19-9be7293161a0",
   "metadata": {},
   "outputs": [],
   "source": [
    "import datetime\n",
    "reload(holidays)\n",
    "\n",
    "MAX_LAST_N_DAYS=365*3\n",
    "start_date = datetime.date(2019, 1, 1)\n",
    "end_date = datetime.datetime.today().date()\n",
    "\n",
    "holidays.recreate()\n",
    "holidays.get_dates_in_range(start_date, end_date)\n",
    "holidays.add_time_dimensions()"
   ]
  },
  {
   "cell_type": "code",
   "execution_count": null,
   "id": "28d97596-ea93-4af0-a1aa-24ba0027c0ac",
   "metadata": {},
   "outputs": [],
   "source": [
    "reload(base)\n",
    "base.load_csv_file(\"./data/RESERVAS Y CONSUMO EL REFUGIO HOSTEL Actual.xlsx - HOSPEDAJE & CONSUMO.csv\")"
   ]
  },
  {
   "cell_type": "code",
   "execution_count": null,
   "id": "376e6610-4c6b-4492-8b91-89ecc1dac644",
   "metadata": {},
   "outputs": [],
   "source": [
    "reload(utility)\n",
    "utility.rename_columns()"
   ]
  },
  {
   "cell_type": "code",
   "execution_count": null,
   "id": "6f5bda62-e7e7-4733-af33-1cc4a0d63094",
   "metadata": {},
   "outputs": [],
   "source": [
    "reload(utility)\n",
    "utility.parse_dates()"
   ]
  },
  {
   "cell_type": "markdown",
   "id": "3cddc078-b6f8-4ea7-998b-1678257dcf09",
   "metadata": {},
   "source": [
    "Por donde nos encontraron?"
   ]
  },
  {
   "cell_type": "code",
   "execution_count": 75,
   "id": "6b92d79e-60d6-41df-a28e-96d8dc83fe97",
   "metadata": {},
   "outputs": [
    {
     "name": "stdout",
     "output_type": "stream",
     "text": [
      "+-------+--------+\n",
      "|channel|channel2|\n",
      "+-------+--------+\n",
      "+-------+--------+\n",
      "\n",
      "0\n",
      "+--------------+-----+\n",
      "|       channel|count|\n",
      "+--------------+-----+\n",
      "|       booking|  384|\n",
      "|redes_sociales|  378|\n",
      "|      referido|  102|\n",
      "|       walk_in|   71|\n",
      "|    recurrente|   65|\n",
      "|         amigo|   40|\n",
      "|        genius|   12|\n",
      "|     instagram|   10|\n",
      "|          NULL|    9|\n",
      "|         otros|    7|\n",
      "|      facebook|    7|\n",
      "|        google|    3|\n",
      "|      fortuito|    2|\n",
      "|         vaolo|    2|\n",
      "|    presencial|    1|\n",
      "|     stay_over|    1|\n",
      "|        guaiti|    1|\n",
      "+--------------+-----+\n",
      "\n"
     ]
    }
   ],
   "source": [
    "reload(utility)\n",
    "utility.channel_analysis()"
   ]
  },
  {
   "cell_type": "markdown",
   "id": "b5ec6f88-8ed2-4260-9cdd-cba1647f8b33",
   "metadata": {},
   "source": [
    "que porcentaje son clientes frecuentes?"
   ]
  },
  {
   "cell_type": "markdown",
   "id": "d863c789-5bec-497a-8e24-705acc0559e8",
   "metadata": {},
   "source": [
    "que porcentaje de personas viaja sola, pareja y grupos familiares?"
   ]
  }
 ],
 "metadata": {
  "kernelspec": {
   "display_name": "Python 3 (ipykernel)",
   "language": "python",
   "name": "python3"
  },
  "language_info": {
   "codemirror_mode": {
    "name": "ipython",
    "version": 3
   },
   "file_extension": ".py",
   "mimetype": "text/x-python",
   "name": "python",
   "nbconvert_exporter": "python",
   "pygments_lexer": "ipython3",
   "version": "3.11.6"
  }
 },
 "nbformat": 4,
 "nbformat_minor": 5
}

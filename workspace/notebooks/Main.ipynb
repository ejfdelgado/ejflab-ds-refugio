{
 "cells": [
  {
   "cell_type": "code",
   "execution_count": 22,
   "id": "7a4295e2-2b2f-40ac-80cb-7c29e797d419",
   "metadata": {},
   "outputs": [
    {
     "data": {
      "text/plain": [
       "<module 'library.utility' from '/home/jovyan/library/utility.py'>"
      ]
     },
     "execution_count": 22,
     "metadata": {},
     "output_type": "execute_result"
    }
   ],
   "source": [
    "from importlib import reload\n",
    "from library import utility\n",
    "from library import holidays\n",
    "reload(utility)"
   ]
  },
  {
   "cell_type": "code",
   "execution_count": 43,
   "id": "2600bc28-3139-4e82-9d19-9be7293161a0",
   "metadata": {},
   "outputs": [
    {
     "name": "stdout",
     "output_type": "stream",
     "text": [
      "+----------+----------+\n",
      "|     fecha|festivo_id|\n",
      "+----------+----------+\n",
      "|2019-01-01|         0|\n",
      "|2019-01-07|         1|\n",
      "|2019-03-25|         2|\n",
      "|2019-04-18|         3|\n",
      "|2019-04-19|         4|\n",
      "|2019-05-01|         5|\n",
      "|2019-06-03|         6|\n",
      "|2019-06-24|         7|\n",
      "|2019-07-01|         8|\n",
      "|2019-07-20|         9|\n",
      "|2019-08-07|        10|\n",
      "|2019-08-19|        11|\n",
      "|2019-10-14|        12|\n",
      "|2019-11-07|        13|\n",
      "|2019-11-11|        14|\n",
      "|2019-12-08|        15|\n",
      "|2019-12-25|        16|\n",
      "|2020-01-01|        17|\n",
      "|2020-01-06|        18|\n",
      "|2020-03-23|        19|\n",
      "+----------+----------+\n",
      "only showing top 20 rows\n",
      "\n"
     ]
    }
   ],
   "source": [
    "import datetime\n",
    "reload(holidays)\n",
    "\n",
    "MAX_LAST_N_DAYS=365*3\n",
    "start_date = datetime.date(2019, 1, 1)\n",
    "end_date = datetime.datetime.today().date()\n",
    "\n",
    "holidays.recreate()\n",
    "holidays.get_dates_in_range(start_date, end_date)\n",
    "holidays.add_time_dimensions()"
   ]
  },
  {
   "cell_type": "code",
   "execution_count": null,
   "id": "28d97596-ea93-4af0-a1aa-24ba0027c0ac",
   "metadata": {},
   "outputs": [],
   "source": [
    "reload(utility)\n",
    "utility.load_csv_file()"
   ]
  },
  {
   "cell_type": "code",
   "execution_count": null,
   "id": "376e6610-4c6b-4492-8b91-89ecc1dac644",
   "metadata": {},
   "outputs": [],
   "source": [
    "reload(utility)\n",
    "utility.rename_columns()"
   ]
  },
  {
   "cell_type": "code",
   "execution_count": null,
   "id": "6f5bda62-e7e7-4733-af33-1cc4a0d63094",
   "metadata": {},
   "outputs": [],
   "source": [
    "reload(utility)\n",
    "utility.parse_dates()"
   ]
  },
  {
   "cell_type": "code",
   "execution_count": 42,
   "id": "6d24239d-674b-4987-9662-04c8cb09407c",
   "metadata": {},
   "outputs": [],
   "source": []
  },
  {
   "cell_type": "markdown",
   "id": "3cddc078-b6f8-4ea7-998b-1678257dcf09",
   "metadata": {},
   "source": [
    "Por donde nos encontraron?"
   ]
  },
  {
   "cell_type": "code",
   "execution_count": 20,
   "id": "6b92d79e-60d6-41df-a28e-96d8dc83fe97",
   "metadata": {},
   "outputs": [
    {
     "name": "stdout",
     "output_type": "stream",
     "text": [
      "+----------+\n",
      "|date_start|\n",
      "+----------+\n",
      "|2019-10-08|\n",
      "|2019-10-09|\n",
      "|2019-10-12|\n",
      "|2019-10-13|\n",
      "|2019-10-13|\n",
      "|2019-10-15|\n",
      "|2019-10-15|\n",
      "|2019-11-09|\n",
      "|2019-10-24|\n",
      "|2019-01-25|\n",
      "|2019-11-01|\n",
      "|2019-11-03|\n",
      "|2019-11-03|\n",
      "|2019-11-09|\n",
      "|2019-11-09|\n",
      "|2019-11-10|\n",
      "|2019-11-10|\n",
      "|2019-11-23|\n",
      "|2019-12-13|\n",
      "|2020-12-19|\n",
      "+----------+\n",
      "only showing top 20 rows\n",
      "\n"
     ]
    }
   ],
   "source": [
    "reload(utility)\n",
    "utility.channel_analysis()"
   ]
  },
  {
   "cell_type": "markdown",
   "id": "b5ec6f88-8ed2-4260-9cdd-cba1647f8b33",
   "metadata": {},
   "source": [
    "que porcentaje son clientes frecuentes?"
   ]
  },
  {
   "cell_type": "markdown",
   "id": "d863c789-5bec-497a-8e24-705acc0559e8",
   "metadata": {},
   "source": [
    "que porcentaje de personas viaja sola, pareja y grupos familiares?"
   ]
  }
 ],
 "metadata": {
  "kernelspec": {
   "display_name": "Python 3 (ipykernel)",
   "language": "python",
   "name": "python3"
  },
  "language_info": {
   "codemirror_mode": {
    "name": "ipython",
    "version": 3
   },
   "file_extension": ".py",
   "mimetype": "text/x-python",
   "name": "python",
   "nbconvert_exporter": "python",
   "pygments_lexer": "ipython3",
   "version": "3.11.6"
  }
 },
 "nbformat": 4,
 "nbformat_minor": 5
}
